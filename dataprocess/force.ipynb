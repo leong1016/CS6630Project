{
 "cells": [
  {
   "cell_type": "code",
   "execution_count": null,
   "metadata": {
    "collapsed": true
   },
   "outputs": [],
   "source": [
    "import numpy as np\n",
    "import pandas as pd\n",
    "pd.set_option('max_rows', None, 'max_columns', None, 'expand_frame_repr', False)"
   ]
  },
  {
   "cell_type": "code",
   "execution_count": null,
   "metadata": {},
   "outputs": [],
   "source": [
    "aplist = pd.read_csv('airportlist.csv', header=None, names=['iata_code'])\n",
    "aplist"
   ]
  },
  {
   "cell_type": "code",
   "execution_count": null,
   "metadata": {},
   "outputs": [],
   "source": [
    "airports1 = pd.read_csv('us_airports.csv')\n",
    "airports1"
   ]
  },
  {
   "cell_type": "code",
   "execution_count": null,
   "metadata": {},
   "outputs": [],
   "source": [
    "airports2 = pd.read_csv('summary.csv')\n",
    "airports2"
   ]
  },
  {
   "cell_type": "code",
   "execution_count": null,
   "metadata": {},
   "outputs": [],
   "source": [
    "raw_airports = pd.merge(airports1, airports2, left_on='iata_code', right_on='Origin', how='inner')\n",
    "raw_airports"
   ]
  },
  {
   "cell_type": "code",
   "execution_count": null,
   "metadata": {},
   "outputs": [],
   "source": [
    "airports = raw_airports[['iata_code', 'type', 'name', 'lat', 'lon', 'elevation_ft', 'iso_region', 'municipality', \n",
    "                         'icao_code', 'Count', 'DepDelay']]\n",
    "airports"
   ]
  },
  {
   "cell_type": "code",
   "execution_count": null,
   "metadata": {},
   "outputs": [],
   "source": [
    "airportInfo = airports[airports['iata_code'].isin(aplist['iata_code'])]\n",
    "airportInfo['id'] = airportInfo['iata_code']\n",
    "airportInfo"
   ]
  },
  {
   "cell_type": "code",
   "execution_count": null,
   "metadata": {
    "collapsed": true
   },
   "outputs": [],
   "source": [
    "# states = airportInfo['iso_region'].drop_duplicates()\n",
    "# states = states.to_frame()\n",
    "# states = states.reset_index(drop=True)\n",
    "# states = states.reset_index()\n",
    "# states = states.set_index('iso_region')\n",
    "# mapping = states.to_dict()['index']\n",
    "# mapping"
   ]
  },
  {
   "cell_type": "code",
   "execution_count": null,
   "metadata": {
    "collapsed": true
   },
   "outputs": [],
   "source": [
    "# airportInfo['iso_region'] = airportInfo['iso_region'].apply(lambda x : mapping[x])\n",
    "# airportInfo"
   ]
  },
  {
   "cell_type": "code",
   "execution_count": null,
   "metadata": {
    "collapsed": true
   },
   "outputs": [],
   "source": [
    "airportInfo = airportInfo.dropna()"
   ]
  },
  {
   "cell_type": "code",
   "execution_count": null,
   "metadata": {},
   "outputs": [],
   "source": [
    "pairCount = pd.read_csv('pairCount.csv')\n",
    "pairCount = pairCount.rename(columns={'Origin': 'source', 'Dest': 'target', 'count': 'value'})\n",
    "pairCount"
   ]
  },
  {
   "cell_type": "code",
   "execution_count": null,
   "metadata": {
    "collapsed": true
   },
   "outputs": [],
   "source": [
    "pairCount = pairCount[pairCount['source'].isin(airportInfo['id'])]\n",
    "pairCount = pairCount[pairCount['target'].isin(airportInfo['id'])]"
   ]
  },
  {
   "cell_type": "code",
   "execution_count": null,
   "metadata": {},
   "outputs": [],
   "source": [
    "links = pairCount.to_dict(orient='records')\n",
    "links"
   ]
  },
  {
   "cell_type": "code",
   "execution_count": null,
   "metadata": {},
   "outputs": [],
   "source": [
    "nodes = airportInfo.to_dict(orient='records')\n",
    "nodes"
   ]
  },
  {
   "cell_type": "code",
   "execution_count": null,
   "metadata": {},
   "outputs": [],
   "source": [
    "combine = {'nodes': nodes, 'links': links}\n",
    "combine"
   ]
  },
  {
   "cell_type": "code",
   "execution_count": null,
   "metadata": {
    "collapsed": true
   },
   "outputs": [],
   "source": [
    "import json\n",
    "with open('force.json', 'w') as f:\n",
    "    json.dump(combine, f)"
   ]
  },
  {
   "cell_type": "code",
   "execution_count": null,
   "metadata": {
    "collapsed": true
   },
   "outputs": [],
   "source": []
  }
 ],
 "metadata": {
  "kernelspec": {
   "display_name": "Python 3",
   "language": "python",
   "name": "python3"
  },
  "language_info": {
   "codemirror_mode": {
    "name": "ipython",
    "version": 3
   },
   "file_extension": ".py",
   "mimetype": "text/x-python",
   "name": "python",
   "nbconvert_exporter": "python",
   "pygments_lexer": "ipython3",
   "version": "3.6.3"
  }
 },
 "nbformat": 4,
 "nbformat_minor": 2
}
