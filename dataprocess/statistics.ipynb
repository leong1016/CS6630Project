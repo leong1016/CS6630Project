{
 "cells": [
  {
   "cell_type": "code",
   "execution_count": null,
   "metadata": {
    "collapsed": true
   },
   "outputs": [],
   "source": [
    "import numpy as np\n",
    "import pandas as pd\n",
    "pd.set_option('max_columns', None, 'max_rows', None, 'expand_frame_repr', False)"
   ]
  },
  {
   "cell_type": "code",
   "execution_count": null,
   "metadata": {
    "collapsed": true
   },
   "outputs": [],
   "source": [
    "def mod_columns(df):\n",
    "    result = df[['Year', 'Month', 'DayofMonth', 'DayOfWeek', 'Carrier', 'Origin', 'OriginCityName', \n",
    "                 'Dest', 'DestCityName', 'CRSDepTime', 'DepTime', 'DepDelay', 'DepartureDelayGroups', \n",
    "                 'DepTimeBlk', 'CRSArrTime', 'ArrTime', 'ArrDelay', 'ArrivalDelayGroups', 'ArrTimeBlk', \n",
    "                 'Cancelled', 'Diverted','CRSElapsedTime','Distance', 'CarrierDelay', 'WeatherDelay', \n",
    "                 'NASDelay', 'SecurityDelay', 'LateAircraftDelay']]\n",
    "    result = result.rename(columns={'DayOfWeek': 'DayofWeek'})\n",
    "    return result"
   ]
  },
  {
   "cell_type": "code",
   "execution_count": null,
   "metadata": {},
   "outputs": [],
   "source": [
    "month_data = []\n",
    "for i in range(1, 13):\n",
    "    filename = 'On_Time_On_Time_Performance_2016_' + str(i) + '.csv'\n",
    "    data = pd.read_csv(filename)\n",
    "    month_data.append(mod_columns(data))"
   ]
  },
  {
   "cell_type": "code",
   "execution_count": null,
   "metadata": {
    "collapsed": true
   },
   "outputs": [],
   "source": [
    "data = pd.concat(month_data)"
   ]
  },
  {
   "cell_type": "code",
   "execution_count": null,
   "metadata": {},
   "outputs": [],
   "source": [
    "data.head()"
   ]
  },
  {
   "cell_type": "code",
   "execution_count": null,
   "metadata": {
    "collapsed": true
   },
   "outputs": [],
   "source": [
    "def countyes(x):\n",
    "    count = 0\n",
    "    for i in x:\n",
    "        if i >= 1.0:\n",
    "            count += 1\n",
    "    return count"
   ]
  },
  {
   "cell_type": "code",
   "execution_count": null,
   "metadata": {
    "collapsed": true
   },
   "outputs": [],
   "source": [
    "def get_origin_agg(data):\n",
    "    agg = data.agg({'Year': 'count', \n",
    "                    'DepDelay': 'mean', \n",
    "                    'CarrierDelay': 'sum', \n",
    "                    'WeatherDelay': 'sum', \n",
    "                    'NASDelay': 'sum', \n",
    "                    'SecurityDelay': 'sum', \n",
    "                    'LateAircraftDelay': 'sum', \n",
    "                    'DepartureDelayGroups': lambda x : countyes(x), \n",
    "                    'Cancelled': lambda x : countyes(x), \n",
    "                    'Diverted': lambda x : countyes(x)\n",
    "                   }).rename(columns={'Year': 'Count', \n",
    "                                      'DepartureDelayGroups': '15minDepDelay'})\n",
    "    agg = agg[agg['Count'] > 1]\n",
    "    total_delay = agg[['CarrierDelay', 'WeatherDelay', 'NASDelay', 'SecurityDelay', \n",
    "                       'LateAircraftDelay']].sum(axis=1)\n",
    "    agg['CarrierDelay'] = agg['CarrierDelay'] / total_delay\n",
    "    agg['WeatherDelay'] = agg['WeatherDelay'] / total_delay\n",
    "    agg['NASDelay'] = agg['NASDelay'] / total_delay\n",
    "    agg['SecurityDelay'] = agg['SecurityDelay'] / total_delay\n",
    "    agg['LateAircraftDelay'] = agg['LateAircraftDelay'] / total_delay\n",
    "    agg['15minDepDelay'] = agg['15minDepDelay'] / agg['Count']\n",
    "    agg['Cancelled'] = agg['Cancelled'] / agg['Count']\n",
    "    agg['Diverted'] = agg['Diverted'] / agg['Count']\n",
    "    return agg"
   ]
  },
  {
   "cell_type": "code",
   "execution_count": null,
   "metadata": {
    "collapsed": true
   },
   "outputs": [],
   "source": [
    "def get_dest_agg(data):\n",
    "    agg = data.agg({'Year': 'count', \n",
    "                    'ArrDelay': 'mean', \n",
    "                    'ArrivalDelayGroups': lambda x : countyes(x), \n",
    "                   }).rename(columns={'Year': 'Count2', \n",
    "                                      'ArrivalDelayGroups': '15minArrDelay'})\n",
    "    agg = agg[agg['Count2'] > 1]\n",
    "    agg['15minArrDelay'] = agg['15minArrDelay'] / agg['Count2']\n",
    "    return agg"
   ]
  },
  {
   "cell_type": "code",
   "execution_count": null,
   "metadata": {
    "collapsed": true
   },
   "outputs": [],
   "source": [
    "origin = data.groupby('Origin', as_index=False)\n",
    "dest = data.groupby('Dest', as_index=False)"
   ]
  },
  {
   "cell_type": "code",
   "execution_count": null,
   "metadata": {},
   "outputs": [],
   "source": [
    "origin_agg = get_origin_agg(origin)\n",
    "origin_agg"
   ]
  },
  {
   "cell_type": "code",
   "execution_count": null,
   "metadata": {},
   "outputs": [],
   "source": [
    "dest_agg = get_dest_agg(dest)\n",
    "dest_agg"
   ]
  },
  {
   "cell_type": "code",
   "execution_count": null,
   "metadata": {},
   "outputs": [],
   "source": [
    "agg = pd.merge(origin_agg, dest_agg, left_on='Origin', right_on='Dest', how='inner')\n",
    "# agg.to_csv('summary.csv', index=False)\n",
    "agg"
   ]
  },
  {
   "cell_type": "code",
   "execution_count": null,
   "metadata": {
    "collapsed": true
   },
   "outputs": [],
   "source": [
    "aplist = agg['Origin']\n",
    "aplist.to_csv(\"airport_with_data.csv\", index=False)"
   ]
  },
  {
   "cell_type": "code",
   "execution_count": null,
   "metadata": {
    "collapsed": true
   },
   "outputs": [],
   "source": [
    "def get_origin_data(name):\n",
    "    \n",
    "    group = origin.get_group(name)\n",
    "        \n",
    "    year = origin_agg[origin_agg['Origin'] == name]\n",
    "    year = year.rename(columns={'Origin': 'Time'})\n",
    "    year['Time'] = '2016'\n",
    "    year.insert(0, 'Type', 'y')\n",
    "    \n",
    "    month = group.groupby('Month', as_index=False)\n",
    "    month_agg = get_origin_agg(month)\n",
    "    month_agg = month_agg.rename(columns={'Month': 'Time'})\n",
    "    month_agg.insert(0, 'Type', 'm')\n",
    "    \n",
    "    week = group.groupby('DayofWeek', as_index=False)\n",
    "    week_agg = get_origin_agg(week)\n",
    "    week_agg = week_agg.rename(columns={'DayofWeek': 'Time'})\n",
    "    week_agg.insert(0, 'Type', 'd')\n",
    "    \n",
    "    hour = group.groupby('DepTimeBlk', as_index=False)\n",
    "    hour_agg = get_origin_agg(hour)\n",
    "    hour_agg = hour_agg.rename(columns={'DepTimeBlk': 'Time'})\n",
    "    hour_agg.insert(0, 'Type', 'h')\n",
    "    \n",
    "    result = pd.concat([year, month_agg, week_agg, hour_agg])\n",
    "    result = result.reset_index(drop=True)\n",
    "    return result"
   ]
  },
  {
   "cell_type": "code",
   "execution_count": null,
   "metadata": {
    "collapsed": true
   },
   "outputs": [],
   "source": [
    "def get_dest_data(name):\n",
    "    \n",
    "    group = dest.get_group(name)\n",
    "        \n",
    "    year = dest_agg[dest_agg['Dest'] == name]\n",
    "    year = year.rename(columns={'Dest': 'Time'})\n",
    "    year['Time'] = '2016'\n",
    "    year.insert(0, 'Type', 'y')\n",
    "    \n",
    "    month = group.groupby('Month', as_index=False)\n",
    "    month_agg = get_dest_agg(month)\n",
    "    month_agg = month_agg.rename(columns={'Month': 'Time'})\n",
    "    month_agg.insert(0, 'Type', 'm')\n",
    "    \n",
    "    week = group.groupby('DayofWeek', as_index=False)\n",
    "    week_agg = get_dest_agg(week)\n",
    "    week_agg = week_agg.rename(columns={'DayofWeek': 'Time'})\n",
    "    week_agg.insert(0, 'Type', 'd')\n",
    "    \n",
    "    hour = group.groupby('DepTimeBlk', as_index=False)\n",
    "    hour_agg = get_dest_agg(hour)\n",
    "    hour_agg = hour_agg.rename(columns={'DepTimeBlk': 'Time'})\n",
    "    hour_agg.insert(0, 'Type', 'h')\n",
    "    \n",
    "    result = pd.concat([year, month_agg, week_agg, hour_agg])\n",
    "    result = result.reset_index(drop=True)\n",
    "    return result"
   ]
  },
  {
   "cell_type": "code",
   "execution_count": null,
   "metadata": {},
   "outputs": [],
   "source": [
    "origin_data = get_origin_data('SLC')\n",
    "origin_data"
   ]
  },
  {
   "cell_type": "code",
   "execution_count": null,
   "metadata": {},
   "outputs": [],
   "source": [
    "dest_data = get_dest_data('SLC')\n",
    "dest_data"
   ]
  },
  {
   "cell_type": "code",
   "execution_count": null,
   "metadata": {},
   "outputs": [],
   "source": [
    "concat_data = pd.merge(origin_data, dest_data, on=['Type', 'Time'], how='outer')\n",
    "concat_data = concat_data.fillna(0)\n",
    "concat_data"
   ]
  },
  {
   "cell_type": "code",
   "execution_count": null,
   "metadata": {
    "collapsed": true
   },
   "outputs": [],
   "source": [
    "for name in list:\n",
    "    filename = name + '.csv'\n",
    "    origin_data = get_origin_data(name)\n",
    "    dest_data = get_dest_data(name)\n",
    "    concat_data = pd.merge(origin_data, dest_data, on=['Type', 'Time'], how='outer')\n",
    "    concat_data = concat_data.fillna(0)\n",
    "    concat_data.to_csv(filename, index=False)"
   ]
  },
  {
   "cell_type": "code",
   "execution_count": null,
   "metadata": {
    "collapsed": true
   },
   "outputs": [],
   "source": [
    "# def get_data(name):\n",
    "    \n",
    "#     year = agg[agg['Origin'] == name]\n",
    "#     year = year.rename(columns={'Origin': 'Time'})\n",
    "#     year['Time'] = '2016'\n",
    "#     year.insert(0, 'Type', 'y')\n",
    "    \n",
    "#     origin_month = origin.get_group(name).groupby('Month', as_index=False)\n",
    "#     origin_month_agg = get_origin_agg(origin_month)\n",
    "#     dest_month = dest.get_group(name).groupby('Month', as_index=False)\n",
    "#     dest_month_agg = get_dest_agg(dest_month)\n",
    "#     month_agg = pd.concat([origin_month_agg, dest_month_agg[['ArrDelay', '15minArrDelay']]], axis=1, join='outer')\n",
    "#     month_agg = month_agg.rename(columns={'Month': 'Time'})\n",
    "#     month_agg.insert(0, 'Type', 'm')\n",
    "    \n",
    "#     origin_week = origin.get_group(name).groupby('DayofWeek', as_index=False)\n",
    "#     origin_week_agg = get_origin_agg(origin_week)\n",
    "#     dest_week = dest.get_group(name).groupby('DayofWeek', as_index=False)\n",
    "#     dest_week_agg = get_dest_agg(dest_week)\n",
    "#     week_agg = pd.concat([origin_week_agg, dest_week_agg[['ArrDelay', '15minArrDelay']]], axis=1, join='outer')\n",
    "#     week_agg = week_agg.rename(columns={'DayofWeek': 'Time'})\n",
    "#     week_agg.insert(0, 'Type', 'd')\n",
    "    \n",
    "#     origin_hour = origin.get_group(name).groupby('DepTimeBlk', as_index=False)\n",
    "#     origin_hour_agg = get_origin_agg(origin_hour)\n",
    "#     dest_hour = dest.get_group(name).groupby('DepTimeBlk', as_index=False)\n",
    "#     dest_hour_agg = get_dest_agg(dest_hour)\n",
    "#     hour_agg = pd.concat([origin_hour_agg, dest_hour_agg[['ArrDelay', '15minArrDelay']]], axis=1, join='outer')\n",
    "#     hour_agg = hour_agg.rename(columns={'DepTimeBlk': 'Time'})\n",
    "#     hour_agg.insert(0, 'Type', 'h')\n",
    "\n",
    "#     result = pd.concat([year, month_agg, week_agg, hour_agg])\n",
    "#     result = result.reset_index(drop=True)\n",
    "#     return result"
   ]
  }
 ],
 "metadata": {
  "kernelspec": {
   "display_name": "Python 3",
   "language": "python",
   "name": "python3"
  },
  "language_info": {
   "codemirror_mode": {
    "name": "ipython",
    "version": 3
   },
   "file_extension": ".py",
   "mimetype": "text/x-python",
   "name": "python",
   "nbconvert_exporter": "python",
   "pygments_lexer": "ipython3",
   "version": "3.6.3"
  }
 },
 "nbformat": 4,
 "nbformat_minor": 2
}
