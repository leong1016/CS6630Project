{
 "cells": [
  {
   "cell_type": "code",
   "execution_count": null,
   "metadata": {
    "collapsed": true
   },
   "outputs": [],
   "source": [
    "import numpy as np\n",
    "import pandas as pd\n",
    "pd.set_option('max_columns', None, 'max_rows', None, 'expand_frame_repr', False)"
   ]
  },
  {
   "cell_type": "code",
   "execution_count": null,
   "metadata": {
    "collapsed": true
   },
   "outputs": [],
   "source": [
    "def mod_columns(df):\n",
    "    result = df[['Year', 'Month', 'DayofMonth', 'DayOfWeek', 'Carrier', 'Origin', 'OriginCityName', \n",
    "                 'Dest', 'DestCityName', 'CRSDepTime', 'DepTime', 'DepDelay', 'DepartureDelayGroups', \n",
    "                 'DepTimeBlk', 'CRSArrTime', 'ArrTime', 'ArrDelay', 'ArrivalDelayGroups', 'ArrTimeBlk', \n",
    "                 'Cancelled', 'Diverted','CRSElapsedTime','Distance', 'CarrierDelay', 'WeatherDelay', \n",
    "                 'NASDelay', 'SecurityDelay', 'LateAircraftDelay']]\n",
    "    result = result.rename(columns={'DayOfWeek': 'DayofWeek'})\n",
    "    return result"
   ]
  },
  {
   "cell_type": "code",
   "execution_count": null,
   "metadata": {},
   "outputs": [],
   "source": [
    "month_data = []\n",
    "for i in range(1, 13):\n",
    "    filename = 'On_Time_On_Time_Performance_2016_' + str(i) + '.csv'\n",
    "    data = pd.read_csv(filename)\n",
    "    month_data.append(mod_columns(data))"
   ]
  },
  {
   "cell_type": "code",
   "execution_count": null,
   "metadata": {
    "collapsed": true
   },
   "outputs": [],
   "source": [
    "data = pd.concat(month_data)"
   ]
  },
  {
   "cell_type": "code",
   "execution_count": null,
   "metadata": {},
   "outputs": [],
   "source": [
    "data.head()"
   ]
  },
  {
   "cell_type": "code",
   "execution_count": null,
   "metadata": {
    "collapsed": true
   },
   "outputs": [],
   "source": [
    "origin = data.groupby('Origin', as_index=False)\n",
    "dest = data.groupby('Dest', as_index=False)"
   ]
  },
  {
   "cell_type": "code",
   "execution_count": null,
   "metadata": {},
   "outputs": [],
   "source": [
    "temp = origin.count()[~origin.count()['Origin'].isin(dest.count()['Dest'])]\n",
    "temp"
   ]
  },
  {
   "cell_type": "code",
   "execution_count": null,
   "metadata": {},
   "outputs": [],
   "source": [
    "dest.count()[~dest.count()['Dest'].isin(origin.count()['Origin'])]"
   ]
  },
  {
   "cell_type": "code",
   "execution_count": null,
   "metadata": {
    "collapsed": true
   },
   "outputs": [],
   "source": [
    "connections = data[['Origin', 'Dest']].drop_duplicates()\n",
    "connections = connections[~connections['Origin'].isin(temp['Origin'])]\n",
    "connections = connections.sort_values(by=['Origin'])\n",
    "connections.to_csv('airportconnection.csv', index=False)"
   ]
  },
  {
   "cell_type": "code",
   "execution_count": null,
   "metadata": {
    "collapsed": true
   },
   "outputs": [],
   "source": [
    "pairCount = data[['Origin', 'Dest', 'Year']].groupby(['Origin', 'Dest']).count()\n",
    "pairCount = pairCount.rename(columns={'Year': 'count'})\n",
    "pairCount = pairCount[pairCount['count']>1]\n",
    "pairCount.to_csv('pairCount.csv')"
   ]
  },
  {
   "cell_type": "code",
   "execution_count": null,
   "metadata": {
    "collapsed": true
   },
   "outputs": [],
   "source": []
  }
 ],
 "metadata": {
  "kernelspec": {
   "display_name": "Python 3",
   "language": "python",
   "name": "python3"
  },
  "language_info": {
   "codemirror_mode": {
    "name": "ipython",
    "version": 3
   },
   "file_extension": ".py",
   "mimetype": "text/x-python",
   "name": "python",
   "nbconvert_exporter": "python",
   "pygments_lexer": "ipython3",
   "version": "3.6.3"
  }
 },
 "nbformat": 4,
 "nbformat_minor": 2
}
