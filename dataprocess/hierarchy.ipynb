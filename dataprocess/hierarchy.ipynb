{
 "cells": [
  {
   "cell_type": "code",
   "execution_count": null,
   "metadata": {
    "collapsed": true
   },
   "outputs": [],
   "source": [
    "import numpy as np\n",
    "import pandas as pd\n",
    "pd.set_option('max_rows', None, 'max_columns', None, 'expand_frame_repr', False)"
   ]
  },
  {
   "cell_type": "code",
   "execution_count": null,
   "metadata": {},
   "outputs": [],
   "source": [
    "airports1 = pd.read_csv('us_airports.csv')\n",
    "airports1"
   ]
  },
  {
   "cell_type": "code",
   "execution_count": null,
   "metadata": {},
   "outputs": [],
   "source": [
    "airports2 = pd.read_csv('summary.csv')\n",
    "airports2"
   ]
  },
  {
   "cell_type": "code",
   "execution_count": null,
   "metadata": {},
   "outputs": [],
   "source": [
    "raw_airports = pd.merge(airports1, airports2, left_on='iata_code', right_on='Origin', how='inner')\n",
    "raw_airports"
   ]
  },
  {
   "cell_type": "code",
   "execution_count": null,
   "metadata": {},
   "outputs": [],
   "source": [
    "airports = raw_airports[['iata_code', 'type', 'name', 'lat', 'lon', 'elevation_ft', 'iso_region', 'municipality', \n",
    "                         'icao_code', 'Count', 'DepDelay', '15minDepDelay', 'Count2', 'ArrDelay', '15minArrDelay']]\n",
    "airports = airports.dropna()\n",
    "airports = airports.rename(columns={'name': 'fullname'})\n",
    "airports"
   ]
  },
  {
   "cell_type": "code",
   "execution_count": null,
   "metadata": {
    "collapsed": true
   },
   "outputs": [],
   "source": [
    "def combine(x):\n",
    "    return x['iso_region'][3:] + '.' + x['iata_code']"
   ]
  },
  {
   "cell_type": "code",
   "execution_count": null,
   "metadata": {},
   "outputs": [],
   "source": [
    "airports['name'] = airports.apply(combine, axis=1)\n",
    "airports"
   ]
  },
  {
   "cell_type": "code",
   "execution_count": null,
   "metadata": {},
   "outputs": [],
   "source": [
    "airportsDict = airports[['iata_code', 'name']].set_index('iata_code').to_dict()['name']\n",
    "airportsDict"
   ]
  },
  {
   "cell_type": "code",
   "execution_count": null,
   "metadata": {
    "collapsed": true
   },
   "outputs": [],
   "source": [
    "def convertName(x):\n",
    "    return airportsDict[x]"
   ]
  },
  {
   "cell_type": "code",
   "execution_count": null,
   "metadata": {},
   "outputs": [],
   "source": [
    "connection = pd.read_csv('airportconnection.csv')\n",
    "connection = connection[connection['Origin'].isin(airports['iata_code'])]\n",
    "connection = connection[connection['Dest'].isin(airports['iata_code'])]\n",
    "connection"
   ]
  },
  {
   "cell_type": "code",
   "execution_count": null,
   "metadata": {},
   "outputs": [],
   "source": [
    "connection['Origin'] = connection['Origin'].map(lambda x : airportsDict[x])\n",
    "connection['Dest'] = connection['Dest'].map(airportsDict)\n",
    "connection"
   ]
  },
  {
   "cell_type": "code",
   "execution_count": null,
   "metadata": {},
   "outputs": [],
   "source": [
    "destcount = connection.groupby('Origin', as_index=False).count()\n",
    "destcount"
   ]
  },
  {
   "cell_type": "code",
   "execution_count": null,
   "metadata": {},
   "outputs": [],
   "source": [
    "newairports = pd.merge(destcount, airports, left_on='Origin', right_on='name', how='inner')\n",
    "newairports"
   ]
  },
  {
   "cell_type": "code",
   "execution_count": null,
   "metadata": {},
   "outputs": [],
   "source": [
    "dests = connection.groupby('Origin')['Dest'].apply(list).to_frame()\n",
    "dests['Origin'] = dests.index\n",
    "dests"
   ]
  },
  {
   "cell_type": "code",
   "execution_count": null,
   "metadata": {},
   "outputs": [],
   "source": [
    "result = pd.merge(dests, newairports, on='Origin', how='inner')\n",
    "result"
   ]
  },
  {
   "cell_type": "code",
   "execution_count": null,
   "metadata": {},
   "outputs": [],
   "source": [
    "result = result.rename(columns={'Dest_x': 'imports', 'Dest_y': 'size'})\n",
    "result = result.drop('Origin', axis=1)\n",
    "result"
   ]
  },
  {
   "cell_type": "code",
   "execution_count": null,
   "metadata": {},
   "outputs": [],
   "source": [
    "output = result.to_dict('records')\n",
    "output"
   ]
  },
  {
   "cell_type": "code",
   "execution_count": null,
   "metadata": {
    "collapsed": true
   },
   "outputs": [],
   "source": [
    "import json\n",
    "with open('hierarchy.json', 'w') as f:\n",
    "    json.dump(output, f)"
   ]
  },
  {
   "cell_type": "code",
   "execution_count": null,
   "metadata": {
    "collapsed": true
   },
   "outputs": [],
   "source": []
  }
 ],
 "metadata": {
  "kernelspec": {
   "display_name": "Python 3",
   "language": "python",
   "name": "python3"
  },
  "language_info": {
   "codemirror_mode": {
    "name": "ipython",
    "version": 3
   },
   "file_extension": ".py",
   "mimetype": "text/x-python",
   "name": "python",
   "nbconvert_exporter": "python",
   "pygments_lexer": "ipython3",
   "version": "3.6.3"
  }
 },
 "nbformat": 4,
 "nbformat_minor": 2
}
